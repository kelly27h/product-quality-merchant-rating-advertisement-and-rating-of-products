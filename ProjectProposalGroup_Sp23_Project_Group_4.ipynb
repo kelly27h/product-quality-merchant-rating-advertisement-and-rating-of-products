{
 "cells": [
  {
   "attachments": {},
   "cell_type": "markdown",
   "metadata": {},
   "source": [
    "# COGS 108 - Final Project Proposal"
   ]
  },
  {
   "attachments": {},
   "cell_type": "markdown",
   "metadata": {},
   "source": [
    "# Names\n",
    "\n",
    "- Zhoutianning Pan\n",
    "- Kelly Huang\n",
    "- Demeng Zhang\n",
    "- Duoduo Fu"
   ]
  },
  {
   "attachments": {},
   "cell_type": "markdown",
   "metadata": {},
   "source": [
    "# Research Question"
   ]
  },
  {
   "attachments": {},
   "cell_type": "markdown",
   "metadata": {},
   "source": [
    "Is there a statistically significant relationship between whether the seller paid to boost his product within the platform (E-commerce Wish) and the sales revenue for the product. Additionally, test the same relationship in each price range group by disaggreagating the data into different groups accoridng to the price range."
   ]
  },
  {
   "attachments": {},
   "cell_type": "markdown",
   "metadata": {},
   "source": [
    "## Background and Prior Work"
   ]
  },
  {
   "attachments": {},
   "cell_type": "markdown",
   "metadata": {},
   "source": [
    "\n",
    "In a fast-paced world of e-commerce, advertising plays a crucial role in promoting products. As competition between businesses intensifies, more and more companies use boosting advertisement within their e-commerce platforms to reach a wider audience and increase their revenue. Traditional advertising, including advertising on TV, radio, promote products to audience that may or may not be interested in the products, which often lacks data support. Platform ads, however, target the consumers who are most likely to be interested in the products using data such as demographics and purchasing history. By promoting inside the platform, companies are looking for a higher return on investment (ROI) for their businesses. According to the research, more than 66.6 billion dollars is invested in online advertisement globally. [Harfoushi]\n",
    "\n",
    "However, with the increasing number of online advertisements, the crisis of trust between users and advertisements turns out to be a big problem. Many users will want to know more about a product when they see an advertisement when buying it. But many product advertisements are very different from the real thing. This leads to a decrease in customer confidence level and a decrease in satisfaction. [Salameh] According to a survey done in 2021, the response of different generations to advertising is also very different. Many of Gen Z's customers do not find the ads memorable, but rather annoying when they see them while playing videos, music or using search engines. However, the survey was not explicitly described for ads within e-commerce platforms. [Mazumder]\n",
    "\n",
    "It is important to understand the impact of these advertisements on sales and product rating is desirable before investing into advertising. With this project, we wanted to analyze the data to see if advertising on e-commerce platforms really does increase purchases and positive feedback in an era where online advertising is so commonplace. We wanted to ensure that the company had a sufficient consumer response after investing in advertising.\n",
    "\n",
    "We found a similar project on Kaggle. Although the topic is different, we can use the same analysis. The authors divided the data into two samples, grouped the individual data together by a certain feature, and then performed a t-test on the data, which we could do by dividing the ratings of products into two groups by whether it placed an ad. [Aksoy] Another project on amazon product ratings uses a correlation matrix, where the author calculates the correlation matrix between product ratings and the different features of the product and then draws it using a heatmap. We can also use the correlation matrix to calculate the correlation between advertising and rating. [Tan]\n",
    "\n",
    "[Harfoushi]:Harfoushi , O. (n.d.). Impact of internet advertisement and its features on e-commerce retail ... Retrieved May 4, 2023, from https://www.researchgate.net/publication/273673670_Impact_of_Internet_Advertisement_and_Its_Features_on_E-Commerce_Retail_Sales_Evidence_from_Europe\n",
    "\n",
    "[Salameh] :Salameh, A. A., Ijaz, M., Omar, A. B., & Zia ul Haq, H. M. (2022, May 11). Impact of online advertisement on customer satisfaction with the mediating effect of Brand Knowledge. Frontiers. Retrieved May 3, 2023, from https://www.frontiersin.org/articles/10.3389/fpsyg.2022.919656/full\n",
    "\n",
    "[Mazumder]: Mazumder, S., Patel, H., & Auxier, B. (2021, November 9). Memorable vs. annoying: How consumers experience ADS on digital platforms. Deloitte Insights. Retrieved May 3, 2023, from https://www2.deloitte.com/xe/en/insights/industry/technology/ad-experience-advertising-effectiveneshttps://www.kaggle.com/code/gorkemaksoy/measurement-problemss.html\n",
    "\n",
    "[Aksoy]: https://www.kaggle.com/code/gorkemaksoy/measurement-problems\n",
    "\n",
    "[Tan]: https://www.kaggle.com/code/jutansy/amazon-sales-data-data-cleansing-and-exploration"
   ]
  },
  {
   "attachments": {},
   "cell_type": "markdown",
   "metadata": {},
   "source": [
    "# Hypothesis\n"
   ]
  },
  {
   "attachments": {},
   "cell_type": "markdown",
   "metadata": {},
   "source": [
    "We predict that sellers who paid to boost their products within the platform (E-commerce Wish) generated more sales revenue. We think this will be the outcome because having the products highlighted or placed at a better position on the webpage will draw customers’ attention more, and thus, increase the amount of orders. \n",
    "We also predict that this advertisement boost strategy will more effectively lead to higher sales revenue on products within the low price range. We believe so because once the customers notice the products, the ones with low price is more affordable and have a greater chance of getting customers to place the orders.\n",
    "\n"
   ]
  },
  {
   "attachments": {},
   "cell_type": "markdown",
   "metadata": {},
   "source": [
    "# Data"
   ]
  },
  {
   "attachments": {},
   "cell_type": "markdown",
   "metadata": {},
   "source": [
    "An ideal dataset we want would include two most important variables: if the seller uses an advertisement boost strategy and their corresponding sales revenue. Other variables would be product id, unit price of each product, units of each product sold, types of product, seller id, and order date. We would like around 2000 observations so that we can obtain more general results and implications. Ideally, the data would be collected from an e-commerce platform so that we could work with data in real-life. These data would be stored in a csv, which will help us to do further analysis in Python.\n",
    "\n",
    "We found a useful dataset on kaggle: https://www.kaggle.com/datasets/jmmvutu/summer-products-and-sales-in-ecommerce-wish. This dataset records the sales of summer clothes on the e-commerce platform called Wish and is stored as a csv file. This dataset has a variable called uses_ad_boosts, which fulfills our most important expectation. Yet, this dataset does not include an overall sales revenue. Rather, it has unit price of each product and units of each product sold. We will calculate the revenue based on these variables. Moreover, the identifier of product in the dataset are names, which include redundant information and can be complicated to interpret. Hence, we might need to create unique product ids for them to make the dataset clearer."
   ]
  },
  {
   "attachments": {},
   "cell_type": "markdown",
   "metadata": {},
   "source": [
    "# Ethics & Privacy"
   ]
  },
  {
   "attachments": {},
   "cell_type": "markdown",
   "metadata": {},
   "source": [
    "There does not have any privacy or terms of use issues, because we are not collecting any personal data. But the data we choose might have some biases because it has self-rating data. Also, it might have some sellers use some way to make fake data, but we believe it is just rarely of them. The data is publicly available online and all comes from different sources, and those data were the real data from Wish.com, so as the platform itself has a policy about the seller so we think it would not affect the analysis we made. "
   ]
  },
  {
   "attachments": {},
   "cell_type": "markdown",
   "metadata": {},
   "source": [
    "# Team Expectations "
   ]
  },
  {
   "attachments": {},
   "cell_type": "markdown",
   "metadata": {},
   "source": [
    "\n",
    "Read over the [COGS108 Team Policies](https://github.com/COGS108/Projects/blob/master/COGS108_TeamPolicies.md) individually. Then, include your group’s expectations of one another for successful completion of your COGS108 project below. Discuss and agree on what all of your expectations are. Discuss how your team will communicate throughout the quarter and consider how you will communicate respectfully should conflicts arise. By including each member’s name above and by adding their name to the submission, you are indicating that you have read the COGS108 Team Policies, accept your team’s expectations below, and have every intention to fulfill them. These expectations are for your team’s use and benefit — they won’t be graded for their details.\n",
    "\n",
    "* *Each member is expected to complete his or her assigned part on time*\n",
    "* *Each member is expected to attend group meeting on time and communite in the group chat*\n",
    "* *Project assignments will be communicated at all times, but ensure that each member is assigned a relatively even amount of content*\n",
    "* ..."
   ]
  },
  {
   "attachments": {},
   "cell_type": "markdown",
   "metadata": {},
   "source": [
    "# Project Timeline Proposal"
   ]
  },
  {
   "attachments": {},
   "cell_type": "markdown",
   "metadata": {},
   "source": [
    "Specify your team's specific project timeline. An example timeline has been provided. Changes the dates, times, names, and details to fit your group's plan.\n",
    "\n",
    "If you think you will need any special resources or training outside what we have covered in COGS 108 to solve your problem, then your proposal should state these clearly. For example, if you have selected a problem that involves implementing multiple neural networks, please state this so we can make sure you know what you’re doing and so we can point you to resources you will need to implement your project. Note that you are not required to use outside methods.\n",
    "\n",
    "\n",
    "\n",
    "| Meeting Date  | Meeting Time| Completed Before Meeting  | Discuss at Meeting |\n",
    "|---|---|---|---|\n",
    "| 5/1  |  1 PM | Brianstorm topics/questions  | Assigning parts of proposal, Draft proposal | \n",
    "| 5/6  |  10 AM |  Collect data | Discuss if data is usable/wrangling; Assign each part of the project | \n",
    "| 5/12  | 3 PM  | Import data & wrangling  | Review wrangling data and discuss analysis  |\n",
    "| 5/19  | 6 PM  | Finalize wrangling/ Brainstorm ways of analysis | Discuss Analysis methods  |\n",
    "| 5/25  | 3 PM  | Start working on analysis/conclusion | Discuss/edit Analysis and coclusion; Complete project check-in |\n",
    "| 6/11  | 12 PM  | Write Script for the final video| Record video and edit the final project |\n",
    "| 6/16  | Before 11:59 PM  | NA | Turn in Final Project & Video |"
   ]
  },
  {
   "cell_type": "code",
   "execution_count": null,
   "metadata": {},
   "outputs": [],
   "source": []
  }
 ],
 "metadata": {
  "kernelspec": {
   "display_name": "Python 3",
   "language": "python",
   "name": "python3"
  },
  "language_info": {
   "codemirror_mode": {
    "name": "ipython",
    "version": 3
   },
   "file_extension": ".py",
   "mimetype": "text/x-python",
   "name": "python",
   "nbconvert_exporter": "python",
   "pygments_lexer": "ipython3",
   "version": "3.8.8"
  }
 },
 "nbformat": 4,
 "nbformat_minor": 2
}
